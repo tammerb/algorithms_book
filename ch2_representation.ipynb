{
 "cells": [
  {
   "cell_type": "markdown",
   "id": "bcf23cde",
   "metadata": {},
   "source": [
    "Conditional independence reduces the numbers of independent parameters needed to define the model."
   ]
  },
  {
   "cell_type": "markdown",
   "id": "8c8ce74e",
   "metadata": {},
   "source": [
    "#### Exercise 2.1:"
   ]
  },
  {
   "cell_type": "markdown",
   "id": "c32a75fb",
   "metadata": {},
   "source": [
    "$p(x|\\lambda) = \\lambda e^{-\\lambda x}$\n",
    "\n",
    "Using equation (2.9):\n",
    "\n",
    "$cdf_X(x) = P(X \\leq x) = \\int_{-\\infty}^{x}{p(x')dx'}$\n",
    "$= \\int_{-\\infty}^{x}{\\lambda e^{-\\lambda x'}dx'}$\n",
    "$= -\\frac{\\lambda e^{-\\lambda x'}}{\\lambda}|^x _{-\\infty} = 1- e^{-\\lambda x'}$"
   ]
  },
  {
   "cell_type": "markdown",
   "id": "0ee6d69c",
   "metadata": {},
   "source": [
    "#### Exercise 2.2:"
   ]
  },
  {
   "cell_type": "markdown",
   "id": "77f63f9a",
   "metadata": {},
   "source": [
    "5 components, with uniform distributions:\n",
    "\n",
    "- $U([-10, -5],[-10, 10])$\n",
    "- $U([-5, 0],[0, 10])$\n",
    "- $U([0, 10],[5, 10])$\n",
    "- $U([-5, 10],[-10, 0])$\n",
    "- $U([0, 10],[0, 5])$\n",
    "\n",
    "Verify the density function integrates to 1:\n",
    "- $5 \\times 20 \\times .003 = 0.3$\n",
    "- $5 \\times 10 \\times .003 = 0.15$\n",
    "- $10 \\times 5 \\times .000 = 0.0$\n",
    "- $15 \\times 10 \\times .000275 = 0.4125$\n",
    "- $10 \\times 5 \\times .000275 = 0.1375$"
   ]
  },
  {
   "cell_type": "markdown",
   "id": "9f8fa0b7",
   "metadata": {},
   "source": [
    "#### Exercise 2.3:"
   ]
  },
  {
   "cell_type": "markdown",
   "id": "4bcace59",
   "metadata": {},
   "source": []
  },
  {
   "cell_type": "markdown",
   "id": "1beca097",
   "metadata": {},
   "source": [
    "#### Exercise 2.4:"
   ]
  },
  {
   "cell_type": "markdown",
   "id": "215ab35f",
   "metadata": {},
   "source": [
    "Three components over four variables, two of the three Guassian distributions assume independence between 4 variables, the other distribution is defined without any independence assumptions. How many independent parameters are required to specify this mixture model?\n",
    "\n",
    "Page 29.\n",
    "\n",
    "$N_k(x_k|\\mu_k,\\Sigma_k)$ where $k=4$ and $x \\in \\Re^4$\n",
    "\n",
    "For Guassian distributions (general), need $n$ params for $\\mu$ and $(n+1)n/2$ for $\\Sigma$ (which is symmetric).\n",
    "\n",
    "For Guassian distributions with independent distributions, need $n$ params for $\\mu$ and $n$ for $\\Sigma$ (which is diagonal).\n",
    "\n",
    "For mixture models, there are k-1 independent params (they sum to 1)."
   ]
  },
  {
   "cell_type": "markdown",
   "id": "f8430664",
   "metadata": {},
   "source": [
    "#### Exercise 2.5:"
   ]
  },
  {
   "cell_type": "markdown",
   "id": "71b622c0",
   "metadata": {},
   "source": []
  },
  {
   "cell_type": "markdown",
   "id": "ca441f8e",
   "metadata": {},
   "source": [
    "#### Exercise 2.6:"
   ]
  },
  {
   "cell_type": "markdown",
   "id": "3201bdb1",
   "metadata": {},
   "source": [
    "Four continuous RVs: $X_1, X_2, Y_1, Y_2$\n",
    "\n",
    "Linear Gaussian: $p(X|Y) = N(\\boldsymbol{x}|\\boldsymbol{My}+\\boldsymbol{b},\\boldsymbol{\\Sigma})$\n",
    "\n",
    "$\\begin{vmatrix}\n",
    "m_1 & m_2\\\\\n",
    "m_3 & m_4\n",
    "\\end{vmatrix}\n",
    "\\begin{vmatrix}\n",
    "Y_1\\\\\n",
    "Y_2\n",
    "\\end{vmatrix}\n",
    "+\n",
    "\\begin{vmatrix}\n",
    "b_1\\\\\n",
    "b_2\n",
    "\\end{vmatrix},\n",
    "\\begin{vmatrix}\n",
    "\\sigma_1^2 & \\sigma_1\\sigma_2\\\\\n",
    "\\sigma_2\\sigma_1 & \\sigma_2^2\n",
    "\\end{vmatrix}\n",
    "$\n",
    "\n",
    "$\\boldsymbol{\\theta} = [m_{1:4},b_{1:2},\\Sigma_{1:3}]$, which is 9 parameters."
   ]
  },
  {
   "cell_type": "markdown",
   "id": "fed176ca",
   "metadata": {},
   "source": [
    "#### Exercise 2.7:"
   ]
  },
  {
   "cell_type": "markdown",
   "id": "5eee5dc4",
   "metadata": {},
   "source": [
    "Full joint: $4^6 - 1 = 4095$\n",
    "\n",
    "Bayes Net: $P(A)P(D)P(B|A)P(E|D)P(C|B,D)P(F|C,E)$\n",
    "\n",
    "- $P(A)$ -> 3 independent parameters\n",
    "- $P(B|A)$ -> 3x4 independent params\n",
    "- $P(C|B,D)$ -> 3x4x4 = 48 independent params\n",
    "\n",
    "$6+24+96 = 126$. $(4095- 126)/4095 = 0.969$"
   ]
  },
  {
   "cell_type": "markdown",
   "id": "8475ce96",
   "metadata": {},
   "source": [
    "#### Exercise 2.8:"
   ]
  },
  {
   "cell_type": "markdown",
   "id": "12ee834d",
   "metadata": {},
   "source": [
    "Is $A$ d-separated from E, given C?\n",
    "\n",
    "Two paths: $A \\rightarrow D \\rightarrow E$ and $A \\rightarrow C \\rightarrow E$\n",
    "\n",
    "Need both paths to be d-separated:\n",
    "1. The path contains a chain with C in Y. First one no, second one yes.\n",
    "2. The path contains a fork with C in Y. No for both.\n",
    "3. The path contains an inverted fork, without C in Y. No for both.\n"
   ]
  },
  {
   "cell_type": "markdown",
   "id": "0e52e512",
   "metadata": {},
   "source": [
    "#### Exercise 2.9:"
   ]
  },
  {
   "cell_type": "markdown",
   "id": "414e6008",
   "metadata": {},
   "source": [
    "_Markov blanket_ refers to the minimal set of nodes that, if their values are known, make $X$ conditionally independent of all other nodes: its parents, children, and the other parents of its children.\n",
    "\n",
    "For node $B$:\n",
    "- Parents: $A$\n",
    "- Children: $D, E$\n",
    "- The other parents of its children: $C$.\n",
    "\n",
    "Full method (reference the 3 ways to achieve d-separation enumerated in previous solution):\n",
    "- $A \\rightarrow B$. 1. chain $A$\n",
    "- $D \\rightarrow B$. 1. chain $D$\n",
    "- $B \\rightarrow E$. 1. chain $E$\n",
    "- $B \\rightarrow E \\rightarrow C$. Contains a fork with $E$, so need $C$ to create a chain. 1.\n",
    "- $B \\rightarrow E \\rightarrow G (\\rightarrow F, H)$. Since $E$ is already in, $F, G, H$ are already d-separated from $B$."
   ]
  },
  {
   "cell_type": "markdown",
   "id": "82b5ce52",
   "metadata": {},
   "source": [
    "### using Julia"
   ]
  },
  {
   "cell_type": "markdown",
   "id": "b8e3ae19",
   "metadata": {},
   "source": []
  },
  {
   "cell_type": "code",
   "execution_count": 14,
   "id": "687a8cf8",
   "metadata": {},
   "outputs": [],
   "source": [
    "# Run these the first time:\n",
    "# import Pkg\n",
    "# Pkg.add(\"Graphs\")\n",
    "# Pkg.add(\"Distributions\")\n",
    "# Pkg.update()"
   ]
  },
  {
   "cell_type": "code",
   "execution_count": 15,
   "id": "4c6234e1",
   "metadata": {},
   "outputs": [],
   "source": [
    "include(\"g.jl\")"
   ]
  },
  {
   "cell_type": "code",
   "execution_count": 16,
   "id": "75a4dd80",
   "metadata": {},
   "outputs": [
    {
     "data": {
      "text/plain": [
       "probability (generic function with 1 method)"
      ]
     },
     "execution_count": 16,
     "metadata": {},
     "output_type": "execute_result"
    }
   ],
   "source": [
    "include(\"ch2.jl\")"
   ]
  },
  {
   "cell_type": "code",
   "execution_count": 17,
   "id": "55b9a909",
   "metadata": {
    "scrolled": true
   },
   "outputs": [
    {
     "data": {
      "text/plain": [
       "Dict{Symbol,Integer} with 3 entries:\n",
       "  :a => 1\n",
       "  :b => 2\n",
       "  :c => 3"
      ]
     },
     "execution_count": 17,
     "metadata": {},
     "output_type": "execute_result"
    }
   ],
   "source": [
    "a = Dict{Symbol, Integer}((a=1, b=2, c=3))"
   ]
  },
  {
   "cell_type": "code",
   "execution_count": 18,
   "id": "93383904",
   "metadata": {},
   "outputs": [
    {
     "data": {
      "text/plain": [
       "(d = -1, e = -2, f = -3)"
      ]
     },
     "execution_count": 18,
     "metadata": {},
     "output_type": "execute_result"
    }
   ],
   "source": [
    "B = (d=-1, e=-2, f=-3)"
   ]
  },
  {
   "cell_type": "code",
   "execution_count": 19,
   "id": "e4fb22c7",
   "metadata": {},
   "outputs": [
    {
     "data": {
      "text/plain": [
       "Dict{Symbol,Integer} with 3 entries:\n",
       "  :f => -3\n",
       "  :d => -1\n",
       "  :e => -2"
      ]
     },
     "execution_count": 19,
     "metadata": {},
     "output_type": "execute_result"
    }
   ],
   "source": [
    "b = Dict{Symbol, Integer}(B)"
   ]
  },
  {
   "cell_type": "code",
   "execution_count": 20,
   "id": "b533f3cb",
   "metadata": {},
   "outputs": [
    {
     "data": {
      "text/plain": [
       "true"
      ]
     },
     "execution_count": 20,
     "metadata": {},
     "output_type": "execute_result"
    }
   ],
   "source": [
    "isequal(a, (a=1, c=3, b=2))"
   ]
  },
  {
   "cell_type": "code",
   "execution_count": 21,
   "id": "dffc681c",
   "metadata": {},
   "outputs": [
    {
     "data": {
      "text/plain": [
       "false"
      ]
     },
     "execution_count": 21,
     "metadata": {},
     "output_type": "execute_result"
    }
   ],
   "source": [
    "isequal(a, (a=1, b=2))"
   ]
  },
  {
   "cell_type": "markdown",
   "id": "740e8b0d",
   "metadata": {},
   "source": [
    "#### Example 2.3"
   ]
  },
  {
   "cell_type": "code",
   "execution_count": 22,
   "id": "59885466",
   "metadata": {},
   "outputs": [
    {
     "data": {
      "text/plain": [
       "Factor(Variable[Variable(:x, 2), Variable(:y, 2), Variable(:z, 2)], Dict(Dict(:y => 1,:z => 2,:x => 2) => 0.05,Dict(:y => 2,:z => 2,:x => 2) => 0.07,Dict(:y => 1,:z => 1,:x => 1) => 0.08,Dict(:y => 2,:z => 1,:x => 1) => 0.09,Dict(:y => 1,:z => 2,:x => 1) => 0.31,Dict(:y => 1,:z => 1,:x => 2) => 0.01,Dict(:y => 2,:z => 2,:x => 1) => 0.37,Dict(:y => 2,:z => 1,:x => 2) => 0.02))"
      ]
     },
     "execution_count": 22,
     "metadata": {},
     "output_type": "execute_result"
    }
   ],
   "source": [
    "X = Variable(:x, 2)\n",
    "Y = Variable(:y, 2)\n",
    "Z = Variable(:z, 2)\n",
    "ϕ = Factor([X, Y, Z], FactorTable(\n",
    "        (x=1, y=1, z=1) => 0.08, (x=1, y=1, z=2) => 0.31,\n",
    "        (x=1, y=2, z=1) => 0.09, (x=1, y=2, z=2) => 0.37,\n",
    "        (x=2, y=1, z=1) => 0.01, (x=2, y=1, z=2) => 0.05,\n",
    "        (x=2, y=2, z=1) => 0.02, (x=2, y=2, z=2) => 0.07,\n",
    "    ))"
   ]
  },
  {
   "attachments": {
    "bayes_net_example_2_5.png": {
     "image/png": "[encoded data removed]"
    }
   },
   "cell_type": "markdown",
   "id": "b10917be",
   "metadata": {},
   "source": [
    "#### Example 2.5\n",
    "\n",
    "![bayes_net_example_2_5.png](attachment:bayes_net_example_2_5.png)"
   ]
  },
  {
   "cell_type": "code",
   "execution_count": 23,
   "id": "d878a384",
   "metadata": {},
   "outputs": [],
   "source": [
    "B = Variable(:b, 2); S = Variable(:s, 2)\n",
    "E = Variable(:e, 2)\n",
    "D = Variable(:d, 2); C = Variable(:c, 2)\n",
    "vars = [B, S, E, D, C]\n",
    "factors = [\n",
    "    Factor([B], FactorTable((b=1,) => 0.99, (b=2,) => 0.01)),\n",
    "    Factor([S], FactorTable((s=1,) => 0.98, (b=2,) => 0.02)),\n",
    "    Factor([E, B, S], FactorTable(\n",
    "            (e=1,b=1,s=1) => 0.90, (e=1,b=1,s=2) => 0.04,\n",
    "            (e=1,b=2,s=1) => 0.05, (e=1,b=2,s=2) => 0.01,\n",
    "            (e=2,b=1,s=1) => 0.10, (e=2,b=1,s=2) => 0.96,\n",
    "            (e=2,b=2,s=1) => 0.95, (e=2,b=2,s=2) => 0.99)),\n",
    "    Factor([D, E], FactorTable(\n",
    "            (d=1,e=1) => 0.96, (d=1,e=2) => 0.03,\n",
    "            (d=2,e=1) => 0.04, (d=2,e=2) => 0.97)),\n",
    "    Factor([C, E], FactorTable(\n",
    "            (c=1,e=1) => 0.98, (c=1,e=2) => 0.01,\n",
    "            (c=2,e=1) => 0.02, (c=2,e=2) => 0.99))\n",
    "]\n",
    "\n",
    "graph = SimpleDiGraph(5)\n",
    "add_edge!(graph, 1, 3); add_edge!(graph, 2, 3)\n",
    "add_edge!(graph, 3, 4); add_edge!(graph, 3, 5)\n",
    "bn = BayesianNetwork(vars, factors, graph);"
   ]
  },
  {
   "cell_type": "code",
   "execution_count": 24,
   "id": "c25a4903",
   "metadata": {},
   "outputs": [
    {
     "data": {
      "text/plain": [
       "Dict{Symbol,Int64} with 5 entries:\n",
       "  :b => 1\n",
       "  :d => 1\n",
       "  :s => 1\n",
       "  :e => 1\n",
       "  :c => 1"
      ]
     },
     "execution_count": 24,
     "metadata": {},
     "output_type": "execute_result"
    }
   ],
   "source": [
    "a = Assignment((b=1, s=1, e=1, d=1, c=1))"
   ]
  },
  {
   "cell_type": "code",
   "execution_count": 25,
   "id": "5763dd18",
   "metadata": {},
   "outputs": [
    {
     "data": {
      "text/plain": [
       "0.8214877439999999"
      ]
     },
     "execution_count": 25,
     "metadata": {},
     "output_type": "execute_result"
    }
   ],
   "source": [
    "probability(bn, a)"
   ]
  },
  {
   "cell_type": "code",
   "execution_count": 26,
   "id": "3fd3c6e3",
   "metadata": {},
   "outputs": [
    {
     "data": {
      "text/plain": [
       "0.034228655999999996"
      ]
     },
     "execution_count": 26,
     "metadata": {},
     "output_type": "execute_result"
    }
   ],
   "source": [
    "b = a = Assignment((b=1, s=1, e=1, d=2, c=1))\n",
    "probability(bn, b)"
   ]
  },
  {
   "cell_type": "code",
   "execution_count": null,
   "id": "4468ddec",
   "metadata": {},
   "outputs": [],
   "source": []
  }
 ],
 "metadata": {
  "kernelspec": {
   "display_name": "Julia 1.4.1",
   "language": "julia",
   "name": "julia-1.4"
  },
  "language_info": {
   "file_extension": ".jl",
   "mimetype": "application/julia",
   "name": "julia",
   "version": "1.4.1"
  }
 },
 "nbformat": 4,
 "nbformat_minor": 5
}
