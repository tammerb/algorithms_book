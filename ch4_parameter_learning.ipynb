{
 "cells": [
  {
   "cell_type": "code",
   "execution_count": 3,
   "id": "fc5077a5",
   "metadata": {},
   "outputs": [
    {
     "data": {
      "text/plain": [
       "kernel_density_estimate (generic function with 1 method)"
      ]
     },
     "execution_count": 3,
     "metadata": {},
     "output_type": "execute_result"
    }
   ],
   "source": [
    "include(\"ch4.jl\")"
   ]
  },
  {
   "cell_type": "markdown",
   "id": "7774a065",
   "metadata": {},
   "source": [
    "#### Example 4.1.\n",
    "Using the statistics function for extracting the statistics from a data set. Bayesian parameter learning can be used to avoid nan values, but we must specify a prior."
   ]
  },
  {
   "cell_type": "code",
   "execution_count": 9,
   "id": "3d793e37",
   "metadata": {
    "scrolled": true
   },
   "outputs": [
    {
     "data": {
      "text/plain": [
       "3-element Array{Array{Float64,2},1}:\n",
       " [2.0 2.0]\n",
       " [0.0 0.0; 0.0 0.0; 2.0 0.0; 0.0 2.0]\n",
       " [0.0 4.0]"
      ]
     },
     "execution_count": 9,
     "metadata": {},
     "output_type": "execute_result"
    }
   ],
   "source": [
    "G = SimpleDiGraph(3)\n",
    "add_edge!(G, 1, 2)\n",
    "add_edge!(G, 3, 2)\n",
    "vars = [Variable(:A,2), Variable(:B,2), Variable(:C,2)]\n",
    "D = [1 2 2 1; 1 2 2 1; 2 2 2 2]\n",
    "M = statistics(vars, G, D)"
   ]
  },
  {
   "cell_type": "code",
   "execution_count": 5,
   "id": "934a8048",
   "metadata": {},
   "outputs": [
    {
     "data": {
      "text/plain": [
       "3-element Array{Array{Float64,2},1}:\n",
       " [0.5 0.5]\n",
       " [NaN NaN; NaN NaN; 1.0 0.0; 0.0 1.0]\n",
       " [0.0 1.0]"
      ]
     },
     "execution_count": 5,
     "metadata": {},
     "output_type": "execute_result"
    }
   ],
   "source": [
    "θ = [mapslices(x->normalize(x,1), Mi, dims=2) for Mi in M]"
   ]
  },
  {
   "cell_type": "markdown",
   "id": "f2b457c5",
   "metadata": {},
   "source": [
    "#### Example 4.2.\n",
    "Computing the posterior parameters in a Bayesian network. Note that unlike example 4.1, here we do not have nan values."
   ]
  },
  {
   "cell_type": "code",
   "execution_count": 6,
   "id": "e9bb9b77",
   "metadata": {},
   "outputs": [
    {
     "data": {
      "text/plain": [
       "3-element Array{Array{Float64,2},1}:\n",
       " [1.0 1.0]\n",
       " [1.0 1.0; 1.0 1.0; 1.0 1.0; 1.0 1.0]\n",
       " [1.0 1.0]"
      ]
     },
     "execution_count": 6,
     "metadata": {},
     "output_type": "execute_result"
    }
   ],
   "source": [
    "α = prior(vars, G)"
   ]
  },
  {
   "cell_type": "code",
   "execution_count": 7,
   "id": "d909826e",
   "metadata": {},
   "outputs": [
    {
     "data": {
      "text/plain": [
       "3-element Array{Array{Float64,2},1}:\n",
       " [3.0 3.0]\n",
       " [1.0 1.0; 1.0 1.0; 3.0 1.0; 1.0 3.0]\n",
       " [1.0 5.0]"
      ]
     },
     "execution_count": 7,
     "metadata": {},
     "output_type": "execute_result"
    }
   ],
   "source": [
    "α + M"
   ]
  }
 ],
 "metadata": {
  "kernelspec": {
   "display_name": "Julia 1.4.1",
   "language": "julia",
   "name": "julia-1.4"
  },
  "language_info": {
   "file_extension": ".jl",
   "mimetype": "application/julia",
   "name": "julia",
   "version": "1.4.1"
  }
 },
 "nbformat": 4,
 "nbformat_minor": 5
}
